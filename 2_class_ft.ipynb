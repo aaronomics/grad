{
 "cells": [
  {
   "attachments": {},
   "cell_type": "markdown",
   "metadata": {},
   "source": [
    "- \"ada:ft-personal-2023-03-17-19-05-55\"\n",
    "- \"ada:ft-personal-2023-03-21-18-34-25\"\n",
    "  - I think this is the final model"
   ]
  },
  {
   "cell_type": "markdown",
   "metadata": {},
   "source": []
  },
  {
   "cell_type": "code",
   "execution_count": null,
   "metadata": {},
   "outputs": [],
   "source": []
  },
  {
   "cell_type": "code",
   "execution_count": 1,
   "metadata": {},
   "outputs": [],
   "source": [
    "ft_model = \"ada:ft-personal-2023-03-21-18-34-25\""
   ]
  },
  {
   "cell_type": "code",
   "execution_count": 3,
   "metadata": {},
   "outputs": [],
   "source": [
    "import pandas as pd\n",
    "import openai\n",
    "import os\n",
    "from sklearn.metrics import confusion_matrix\n",
    "import matplotlib.pyplot as plt\n",
    "import numpy as np"
   ]
  },
  {
   "cell_type": "code",
   "execution_count": 3,
   "metadata": {},
   "outputs": [
    {
     "name": "stdout",
     "output_type": "stream",
     "text": [
      "<class 'str'>\n"
     ]
    }
   ],
   "source": [
    "api_key = os.getenv(\"OPENAI_API_KEY\")\n",
    "print(type(api_key))\n",
    "openai.api_key = api_key\n",
    "\n",
    "df = pd.read_excel(\"human_ai.xlsx\")\n",
    "\n",
    "df.to_json(\"ai.jsonl\", orient='records', lines=True)\n",
    "\n",
    "# !openai tools fine_tunes.prepare_data -f ai.jsonl -q\n",
    "\n",
    "# !openai api fine_tunes.create -t \"ai_prepared_train.jsonl\" -v \"ai_prepared_valid.jsonl\" -m ada --compute_classification_metrics --classification_positive_class \" human\" --n_epochs 10\n",
    "\n",
    "# !openai api fine_tunes.results -i ft-B29wadYuk9CqMvVvKJKQ4P5u > student_result5.csv"
   ]
  },
  {
   "cell_type": "code",
   "execution_count": 5,
   "metadata": {},
   "outputs": [
    {
     "name": "stdout",
     "output_type": "stream",
     "text": [
      "      step  elapsed_tokens  elapsed_examples  training_loss  \\\n",
      "0        1             585                 1       0.071334   \n",
      "1        2            1570                 2       0.051142   \n",
      "2        3            2467                 3       0.044245   \n",
      "3        4            3348                 4       0.048229   \n",
      "4        5            4453                 5       0.028044   \n",
      "...    ...             ...               ...            ...   \n",
      "3546  3547         3196715              3547       0.004662   \n",
      "3547  3548         3197412              3548       0.005026   \n",
      "3548  3549         3198397              3549       0.004665   \n",
      "3549  3550         3199070              3550       0.002380   \n",
      "3550  3551         3199967              3551       0.004751   \n",
      "\n",
      "      training_sequence_accuracy  training_token_accuracy  validation_loss  \\\n",
      "0                            0.0                      0.0         0.055746   \n",
      "1                            0.0                      0.0              NaN   \n",
      "2                            0.0                      0.0              NaN   \n",
      "3                            0.0                      0.0              NaN   \n",
      "4                            0.0                      0.0              NaN   \n",
      "...                          ...                      ...              ...   \n",
      "3546                         1.0                      1.0              NaN   \n",
      "3547                         1.0                      1.0              NaN   \n",
      "3548                         1.0                      1.0              NaN   \n",
      "3549                         1.0                      1.0              NaN   \n",
      "3550                         1.0                      1.0              NaN   \n",
      "\n",
      "      validation_sequence_accuracy  validation_token_accuracy  \\\n",
      "0                              0.0                        0.0   \n",
      "1                              NaN                        NaN   \n",
      "2                              NaN                        NaN   \n",
      "3                              NaN                        NaN   \n",
      "4                              NaN                        NaN   \n",
      "...                            ...                        ...   \n",
      "3546                           NaN                        NaN   \n",
      "3547                           NaN                        NaN   \n",
      "3548                           NaN                        NaN   \n",
      "3549                           NaN                        NaN   \n",
      "3550                           NaN                        NaN   \n",
      "\n",
      "      classification/accuracy  classification/precision  \\\n",
      "0                         NaN                       NaN   \n",
      "1                         NaN                       NaN   \n",
      "2                         NaN                       NaN   \n",
      "3                         NaN                       NaN   \n",
      "4                         NaN                       NaN   \n",
      "...                       ...                       ...   \n",
      "3546                      NaN                       NaN   \n",
      "3547                      NaN                       NaN   \n",
      "3548                      NaN                       NaN   \n",
      "3549                      NaN                       NaN   \n",
      "3550                      1.0                       1.0   \n",
      "\n",
      "      classification/recall  classification/auroc  classification/auprc  \\\n",
      "0                       NaN                   NaN                   NaN   \n",
      "1                       NaN                   NaN                   NaN   \n",
      "2                       NaN                   NaN                   NaN   \n",
      "3                       NaN                   NaN                   NaN   \n",
      "4                       NaN                   NaN                   NaN   \n",
      "...                     ...                   ...                   ...   \n",
      "3546                    NaN                   NaN                   NaN   \n",
      "3547                    NaN                   NaN                   NaN   \n",
      "3548                    NaN                   NaN                   NaN   \n",
      "3549                    NaN                   NaN                   NaN   \n",
      "3550                    1.0                   1.0                   1.0   \n",
      "\n",
      "      classification/f1.0  \n",
      "0                     NaN  \n",
      "1                     NaN  \n",
      "2                     NaN  \n",
      "3                     NaN  \n",
      "4                     NaN  \n",
      "...                   ...  \n",
      "3546                  NaN  \n",
      "3547                  NaN  \n",
      "3548                  NaN  \n",
      "3549                  NaN  \n",
      "3550                  1.0  \n",
      "\n",
      "[3551 rows x 15 columns]\n",
      "      step  elapsed_tokens  elapsed_examples  training_loss  \\\n",
      "3550  3551         3199967              3551       0.004751   \n",
      "\n",
      "      training_sequence_accuracy  training_token_accuracy  validation_loss  \\\n",
      "3550                         1.0                      1.0              NaN   \n",
      "\n",
      "      validation_sequence_accuracy  validation_token_accuracy  \\\n",
      "3550                           NaN                        NaN   \n",
      "\n",
      "      classification/accuracy  classification/precision  \\\n",
      "3550                      1.0                       1.0   \n",
      "\n",
      "      classification/recall  classification/auroc  classification/auprc  \\\n",
      "3550                    1.0                   1.0                   1.0   \n",
      "\n",
      "      classification/f1.0  \n",
      "3550                  1.0  \n"
     ]
    },
    {
     "data": {
      "text/plain": [
       "<Axes: >"
      ]
     },
     "execution_count": 5,
     "metadata": {},
     "output_type": "execute_result"
    },
    {
     "data": {
      "image/png": "[encoded data removed]",
      "text/plain": [
       "<Figure size 640x480 with 1 Axes>"
      ]
     },
     "metadata": {},
     "output_type": "display_data"
    }
   ],
   "source": [
    "results = pd.read_csv('ai_result2.csv')\n",
    "\n",
    "print(results)\n",
    "\n",
    "print(results[results['classification/accuracy'].notnull()].tail(1))\n",
    "\n",
    "results[results['classification/accuracy'].notnull()]['classification/accuracy'].plot()"
   ]
  },
  {
   "cell_type": "code",
   "execution_count": 10,
   "metadata": {},
   "outputs": [
    {
     "name": "stdout",
     "output_type": "stream",
     "text": [
      "      step  elapsed_tokens  elapsed_examples  training_loss  \\\n",
      "355    356          320796               356       0.014224   \n",
      "711    712          641424               712       0.012600   \n",
      "1067  1068          962196              1068       0.013242   \n",
      "1422  1423         1282887              1423       0.021459   \n",
      "1778  1779         1603019              1779       0.013892   \n",
      "2134  2135         1924023              2135       0.020368   \n",
      "2489  2490         2244378              2490       0.011576   \n",
      "2845  2846         2564318              2846       0.004089   \n",
      "3200  3201         2884769              3201       0.003335   \n",
      "3550  3551         3199967              3551       0.004751   \n",
      "\n",
      "      training_sequence_accuracy  training_token_accuracy  validation_loss  \\\n",
      "355                          1.0                      1.0              NaN   \n",
      "711                          1.0                      1.0              NaN   \n",
      "1067                         1.0                      1.0              NaN   \n",
      "1422                         1.0                      1.0              NaN   \n",
      "1778                         1.0                      1.0              NaN   \n",
      "2134                         1.0                      1.0              NaN   \n",
      "2489                         1.0                      1.0              NaN   \n",
      "2845                         1.0                      1.0              NaN   \n",
      "3200                         1.0                      1.0          0.01991   \n",
      "3550                         1.0                      1.0              NaN   \n",
      "\n",
      "      validation_sequence_accuracy  validation_token_accuracy  \\\n",
      "355                            NaN                        NaN   \n",
      "711                            NaN                        NaN   \n",
      "1067                           NaN                        NaN   \n",
      "1422                           NaN                        NaN   \n",
      "1778                           NaN                        NaN   \n",
      "2134                           NaN                        NaN   \n",
      "2489                           NaN                        NaN   \n",
      "2845                           NaN                        NaN   \n",
      "3200                           1.0                        1.0   \n",
      "3550                           NaN                        NaN   \n",
      "\n",
      "      classification/accuracy  classification/precision  \\\n",
      "355                  0.988764                       1.0   \n",
      "711                  1.000000                       1.0   \n",
      "1067                 1.000000                       1.0   \n",
      "1422                 1.000000                       1.0   \n",
      "1778                 1.000000                       1.0   \n",
      "2134                 1.000000                       1.0   \n",
      "2489                 1.000000                       1.0   \n",
      "2845                 1.000000                       1.0   \n",
      "3200                 1.000000                       1.0   \n",
      "3550                 1.000000                       1.0   \n",
      "\n",
      "      classification/recall  classification/auroc  classification/auprc  \\\n",
      "355                0.967742                   1.0                   1.0   \n",
      "711                1.000000                   1.0                   1.0   \n",
      "1067               1.000000                   1.0                   1.0   \n",
      "1422               1.000000                   1.0                   1.0   \n",
      "1778               1.000000                   1.0                   1.0   \n",
      "2134               1.000000                   1.0                   1.0   \n",
      "2489               1.000000                   1.0                   1.0   \n",
      "2845               1.000000                   1.0                   1.0   \n",
      "3200               1.000000                   1.0                   1.0   \n",
      "3550               1.000000                   1.0                   1.0   \n",
      "\n",
      "      classification/f1.0  \n",
      "355              0.983607  \n",
      "711              1.000000  \n",
      "1067             1.000000  \n",
      "1422             1.000000  \n",
      "1778             1.000000  \n",
      "2134             1.000000  \n",
      "2489             1.000000  \n",
      "2845             1.000000  \n",
      "3200             1.000000  \n",
      "3550             1.000000  \n",
      "      step  elapsed_tokens  elapsed_examples  training_loss  \\\n",
      "3550  3551         3199967              3551       0.004751   \n",
      "\n",
      "      training_sequence_accuracy  training_token_accuracy  validation_loss  \\\n",
      "3550                         1.0                      1.0              NaN   \n",
      "\n",
      "      validation_sequence_accuracy  validation_token_accuracy  \\\n",
      "3550                           NaN                        NaN   \n",
      "\n",
      "      classification/accuracy  classification/precision  \\\n",
      "3550                      1.0                       1.0   \n",
      "\n",
      "      classification/recall  classification/auroc  classification/auprc  \\\n",
      "3550                    1.0                   1.0                   1.0   \n",
      "\n",
      "      classification/f1.0  \n",
      "3550                  1.0  \n"
     ]
    },
    {
     "data": {
      "image/png": "[encoded data removed]",
      "text/plain": [
       "<Figure size 640x480 with 1 Axes>"
      ]
     },
     "metadata": {},
     "output_type": "display_data"
    }
   ],
   "source": [
    "import matplotlib.pyplot as plt\n",
    "results_filtered = results[results['classification/accuracy'].notnull()].tail(10)\n",
    "print(results_filtered)\n",
    "\n",
    "print(results_filtered[results_filtered['classification/accuracy'].notnull()].tail(1))\n",
    "\n",
    "results_filtered[results_filtered['classification/accuracy'].notnull()]['classification/accuracy'].plot(marker='o')\n",
    "\n",
    "# Add x and y axis labels\n",
    "plt.xlabel('Epoch')\n",
    "plt.ylabel('Training Accuracy')\n",
    "plt.xticks(ticks = [355, 711, 1067, 1422, 1778, 2134, 2489, 2845, 3200, 3550],labels= range(1, 11))\n",
    "plt.show()"
   ]
  },
  {
   "cell_type": "code",
   "execution_count": 7,
   "metadata": {},
   "outputs": [
    {
     "data": {
      "text/plain": [
       "Text(0, 0.5, 'Training Loss')"
      ]
     },
     "execution_count": 7,
     "metadata": {},
     "output_type": "execute_result"
    },
    {
     "data": {
      "image/png": "[encoded data removed]",
      "text/plain": [
       "<Figure size 640x480 with 1 Axes>"
      ]
     },
     "metadata": {},
     "output_type": "display_data"
    }
   ],
   "source": [
    "results[results['training_loss'].notnull()]['training_loss'].plot()\n",
    "\n",
    "plt.xlabel('Epoch')\n",
    "plt.ylabel('Training Loss')"
   ]
  },
  {
   "cell_type": "code",
   "execution_count": 9,
   "metadata": {},
   "outputs": [
    {
     "data": {
      "text/html": [
       "<div>\n",
       "<style scoped>\n",
       "    .dataframe tbody tr th:only-of-type {\n",
       "        vertical-align: middle;\n",
       "    }\n",
       "\n",
       "    .dataframe tbody tr th {\n",
       "        vertical-align: top;\n",
       "    }\n",
       "\n",
       "    .dataframe thead th {\n",
       "        text-align: right;\n",
       "    }\n",
       "</style>\n",
       "<table border=\"1\" class=\"dataframe\">\n",
       "  <thead>\n",
       "    <tr style=\"text-align: right;\">\n",
       "      <th></th>\n",
       "      <th>prompt</th>\n",
       "      <th>completion</th>\n",
       "    </tr>\n",
       "  </thead>\n",
       "  <tbody>\n",
       "    <tr>\n",
       "      <th>0</th>\n",
       "      <td>\\n\\nWomen in the Ancient World\\n\\nThroughout h...</td>\n",
       "      <td>ai</td>\n",
       "    </tr>\n",
       "    <tr>\n",
       "      <th>1</th>\n",
       "      <td>\\n\\nThe Winter Goddess\\n\\nWinter is a season t...</td>\n",
       "      <td>ai</td>\n",
       "    </tr>\n",
       "    <tr>\n",
       "      <th>2</th>\n",
       "      <td>\\n\\nAnglo-Saxon Studies [Early English Studies...</td>\n",
       "      <td>ai</td>\n",
       "    </tr>\n",
       "    <tr>\n",
       "      <th>3</th>\n",
       "      <td>The Division of Labour\\n\\nThe division of labo...</td>\n",
       "      <td>ai</td>\n",
       "    </tr>\n",
       "    <tr>\n",
       "      <th>4</th>\n",
       "      <td>\\n\\nThe Quatrian Grand Theatre is a landmark b...</td>\n",
       "      <td>ai</td>\n",
       "    </tr>\n",
       "  </tbody>\n",
       "</table>\n",
       "</div>"
      ],
      "text/plain": [
       "                                              prompt completion\n",
       "0  \\n\\nWomen in the Ancient World\\n\\nThroughout h...         ai\n",
       "1  \\n\\nThe Winter Goddess\\n\\nWinter is a season t...         ai\n",
       "2  \\n\\nAnglo-Saxon Studies [Early English Studies...         ai\n",
       "3  The Division of Labour\\n\\nThe division of labo...         ai\n",
       "4  \\n\\nThe Quatrian Grand Theatre is a landmark b...         ai"
      ]
     },
     "execution_count": 9,
     "metadata": {},
     "output_type": "execute_result"
    }
   ],
   "source": [
    "test = pd.read_json('ai_prepared_valid.jsonl', lines=True)\n",
    "test.head()"
   ]
  },
  {
   "cell_type": "code",
   "execution_count": 12,
   "metadata": {},
   "outputs": [
    {
     "name": "stdout",
     "output_type": "stream",
     "text": [
      "[' ai', ' human']\n"
     ]
    }
   ],
   "source": [
    "classes = list(test['completion'].unique())\n",
    "print(classes)"
   ]
  },
  {
   "cell_type": "code",
   "execution_count": 13,
   "metadata": {},
   "outputs": [
    {
     "name": "stdout",
     "output_type": "stream",
     "text": [
      "                                               prompt completion prediction\n",
      "0   \\n\\nWomen in the Ancient World\\n\\nThroughout h...         ai          a\n",
      "1   \\n\\nThe Winter Goddess\\n\\nWinter is a season t...         ai          a\n",
      "2   \\n\\nAnglo-Saxon Studies [Early English Studies...         ai          a\n",
      "3   The Division of Labour\\n\\nThe division of labo...         ai          a\n",
      "4   \\n\\nThe Quatrian Grand Theatre is a landmark b...         ai          a\n",
      "5   \\n\\nRushing the Growler\\n\\nHave you ever heard...         ai          a\n",
      "6   \\n\\nAnglo-Saxon Studies, also known as Early E...         ai          a\n",
      "7   \\n\\nYes the Body: A Quarantined Review of Spaw...         ai          a\n",
      "8   \\n\\nBasketball is one of the most popular spor...         ai          a\n",
      "9   \\n\\nAesopica is a collection of fables attribu...         ai          a\n",
      "10  \\n\\nSeventy-five years ago, the world witnesse...         ai          a\n",
      "11  \\n\\nCovid-19 Live Updates: Americans Gather fo...         ai          a\n",
      "12  \\n\\nLinear Regression — Basics that every ML e...         ai          a\n",
      "13  \\n\\nA Vacation to Mars: The Biggest Scam in Mo...         ai          a\n",
      "14  \\n\\nThe USHJA Wheeler Museum is a haven for eq...         ai          a\n",
      "15  \\n\\nOnce upon a time, there was a popular sena...         ai          a\n",
      "16  \\n\\nThe Hunt for Enemy Technology - Early Jets...         ai          a\n",
      "17  \\n\\nA Vacation to Mars: The Biggest Scam in Mo...         ai          a\n",
      "18  \\n\\nIt was a warm afternoon in Cuba, and two o...         ai          a\n",
      "19  \\n\\nLamborghini: From Tractors to Supercars\\n\\...         ai          a\n"
     ]
    }
   ],
   "source": [
    "for i in range(len(test)):\n",
    "    res = openai.Completion.create(model=ft_model, prompt=test['prompt'][i] + '\\n\\n###\\n\\n', max_tokens=1, temperature=0, logprobs=2)\n",
    "    test.loc[i, 'prediction'] = res['choices'][0]['text']\n",
    "    #test.loc[i, 'log_probs'] = res['choices'][0]['logprobs']['top_logprobs'][0]\n",
    "\n",
    "print(test.head(20))"
   ]
  },
  {
   "cell_type": "code",
   "execution_count": 14,
   "metadata": {},
   "outputs": [
    {
     "data": {
      "text/plain": [
       "[' a', ' human']"
      ]
     },
     "execution_count": 14,
     "metadata": {},
     "output_type": "execute_result"
    }
   ],
   "source": [
    "classes = list(test['prediction'].unique())\n",
    "classes"
   ]
  },
  {
   "cell_type": "code",
   "execution_count": 16,
   "metadata": {},
   "outputs": [
    {
     "name": "stdout",
     "output_type": "stream",
     "text": [
      "Predicted   aii   humaiin\n",
      "Actual                   \n",
      " ai          59         0\n",
      " human        0        11\n"
     ]
    },
    {
     "data": {
      "image/png": "[encoded data removed]",
      "text/plain": [
       "<Figure size 480x480 with 2 Axes>"
      ]
     },
     "metadata": {},
     "output_type": "display_data"
    }
   ],
   "source": [
    "test['prediction'] = test['prediction'].str.replace('a', 'ai')\n",
    "\n",
    "y_actu = pd.Series(test['completion'].values, name='Actual')\n",
    "y_pred = pd.Series(test['prediction'].values, name='Predicted')\n",
    "\n",
    "def plot_confusion_matrix(df_confusion, title='Confusion matrix', cmap=plt.cm.gray_r):\n",
    "    plt.matshow(df_confusion, cmap=cmap) # imshow\n",
    "    #plt.title(title)\n",
    "    plt.colorbar()\n",
    "    tick_marks = np.arange(len(df_confusion.columns))\n",
    "    plt.xticks(tick_marks, df_confusion.columns, rotation=45)\n",
    "    plt.yticks(tick_marks, df_confusion.index)\n",
    "    #plt.tight_layout()\n",
    "    plt.ylabel(df_confusion.index.name)\n",
    "    plt.xlabel(df_confusion.columns.name)\n",
    "\n",
    "\n",
    "df_confusion = pd.crosstab(y_actu, y_pred)\n",
    "print(df_confusion)\n",
    "plot_confusion_matrix(df_confusion)"
   ]
  }
 ],
 "metadata": {
  "kernelspec": {
   "display_name": "grad",
   "language": "python",
   "name": "python3"
  },
  "language_info": {
   "codemirror_mode": {
    "name": "ipython",
    "version": 3
   },
   "file_extension": ".py",
   "mimetype": "text/x-python",
   "name": "python",
   "nbconvert_exporter": "python",
   "pygments_lexer": "ipython3",
   "version": "3.11.0"
  },
  "orig_nbformat": 4
 },
 "nbformat": 4,
 "nbformat_minor": 2
}
