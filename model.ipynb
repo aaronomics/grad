{
 "cells": [
  {
   "cell_type": "code",
   "execution_count": 1,
   "metadata": {},
   "outputs": [],
   "source": [
    "import pandas as pd\n",
    "import openai\n",
    "import os"
   ]
  },
  {
   "cell_type": "code",
   "execution_count": 2,
   "metadata": {},
   "outputs": [
    {
     "name": "stdout",
     "output_type": "stream",
     "text": [
      "<class 'str'>\n"
     ]
    }
   ],
   "source": [
    "api_key = os.getenv(\"OPENAI_API_KEY\")\n",
    "print(type(api_key))\n",
    "#print(api_key)\n",
    "\n",
    "openai.api_key = api_key"
   ]
  },
  {
   "cell_type": "code",
   "execution_count": 6,
   "metadata": {},
   "outputs": [],
   "source": [
    "data = pd.read_excel(\"data.xlsx\")"
   ]
  },
  {
   "cell_type": "code",
   "execution_count": 7,
   "metadata": {},
   "outputs": [
    {
     "data": {
      "text/html": [
       "<div>\n",
       "<style scoped>\n",
       "    .dataframe tbody tr th:only-of-type {\n",
       "        vertical-align: middle;\n",
       "    }\n",
       "\n",
       "    .dataframe tbody tr th {\n",
       "        vertical-align: top;\n",
       "    }\n",
       "\n",
       "    .dataframe thead th {\n",
       "        text-align: right;\n",
       "    }\n",
       "</style>\n",
       "<table border=\"1\" class=\"dataframe\">\n",
       "  <thead>\n",
       "    <tr style=\"text-align: right;\">\n",
       "      <th></th>\n",
       "      <th>prompt</th>\n",
       "      <th>completion</th>\n",
       "    </tr>\n",
       "  </thead>\n",
       "  <tbody>\n",
       "    <tr>\n",
       "      <th>0</th>\n",
       "      <td>\\n\\nColonizers or Victims?\\n\\nThroughout histo...</td>\n",
       "      <td>10th grade</td>\n",
       "    </tr>\n",
       "    <tr>\n",
       "      <th>1</th>\n",
       "      <td>\\n\\nColonizers or Victims?\\n\\nThe history of c...</td>\n",
       "      <td>college</td>\n",
       "    </tr>\n",
       "    <tr>\n",
       "      <th>2</th>\n",
       "      <td>\\n\\nRegression models are a common tool used b...</td>\n",
       "      <td>college</td>\n",
       "    </tr>\n",
       "    <tr>\n",
       "      <th>3</th>\n",
       "      <td>\\n\\nResidual Plots for Regression Model Valida...</td>\n",
       "      <td>10th grade</td>\n",
       "    </tr>\n",
       "    <tr>\n",
       "      <th>4</th>\n",
       "      <td>\\n\\nThe Mansfield Murders: A Case Study of a S...</td>\n",
       "      <td>college</td>\n",
       "    </tr>\n",
       "  </tbody>\n",
       "</table>\n",
       "</div>"
      ],
      "text/plain": [
       "                                              prompt  completion\n",
       "0  \\n\\nColonizers or Victims?\\n\\nThroughout histo...  10th grade\n",
       "1  \\n\\nColonizers or Victims?\\n\\nThe history of c...     college\n",
       "2  \\n\\nRegression models are a common tool used b...     college\n",
       "3  \\n\\nResidual Plots for Regression Model Valida...  10th grade\n",
       "4  \\n\\nThe Mansfield Murders: A Case Study of a S...     college"
      ]
     },
     "execution_count": 7,
     "metadata": {},
     "output_type": "execute_result"
    }
   ],
   "source": [
    "labels = data['student'] \n",
    "texts = data['response']\n",
    "\n",
    "df = pd.DataFrame(zip(texts, labels), columns = ['prompt','completion']) #[:300]\n",
    "df.head()"
   ]
  },
  {
   "cell_type": "code",
   "execution_count": 8,
   "metadata": {},
   "outputs": [],
   "source": [
    "df.to_json(\"essays.jsonl\", orient='records', lines=True)"
   ]
  },
  {
   "attachments": {},
   "cell_type": "markdown",
   "metadata": {},
   "source": [
    "#### console commands\n",
    "\n",
    "below lines are to be run in terminal. running inline with the '!' operator doesn't quite work as intended"
   ]
  },
  {
   "cell_type": "code",
   "execution_count": null,
   "metadata": {},
   "outputs": [],
   "source": [
    "!openai tools fine_tunes.prepare_data -f essays.jsonl -q"
   ]
  },
  {
   "cell_type": "code",
   "execution_count": null,
   "metadata": {},
   "outputs": [],
   "source": [
    "!openai api fine_tunes.create -t \"essays_prepared_train.jsonl\" -v \"essays_prepared_valid.jsonl\" --compute_classification_metrics --classification_positive_class \" 10th grade\" -m ada"
   ]
  },
  {
   "cell_type": "code",
   "execution_count": 10,
   "metadata": {},
   "outputs": [],
   "source": [
    "# ran this one on curie\n",
    "\n",
    "!openai api fine_tunes.results -i ft-cGUDQqtayDcpWvQ4tXxSKdhL > result.csv"
   ]
  },
  {
   "cell_type": "code",
   "execution_count": 32,
   "metadata": {},
   "outputs": [],
   "source": [
    "# this one is running on ada\n",
    "\n",
    "!openai api fine_tunes.results -i ft-z3lKpEXOcp5hwMlFs9sAm4h4 > result.csv"
   ]
  },
  {
   "cell_type": "code",
   "execution_count": 33,
   "metadata": {},
   "outputs": [
    {
     "name": "stdout",
     "output_type": "stream",
     "text": [
      "                                              prompt   completion prediction\n",
      "0  \\n\\nThe Inspiration for Sherlock Holmes\\n\\nAs ...      college         10\n",
      "1  \\n\\nDuring World War II, the development of je...   10th grade    college\n",
      "2  \\n\\nThe Secret to Knowing the Unknowable: Pred...      college    college\n",
      "3  \\n\\nMikhael Subotzky’s Destructive Collage Pro...      college         10\n",
      "4  \\n\\nProbability vs Likelihood\\n\\nProbability a...   10th grade    college\n",
      "5  \\n\\nThe Roman gladiators were some of the most...   10th grade    college\n",
      "6  \\n\\nVisualizing Overland Travel, When All Road...   10th grade    college\n",
      "7  \\n\\nElections are a fundamental aspect of any ...   10th grade    college\n"
     ]
    }
   ],
   "source": [
    "results = pd.read_csv('result.csv')\n",
    "results[results['classification/accuracy'].notnull()].tail(1)\n",
    "test = pd.read_json('essays_prepared_valid.jsonl', lines=True)\n",
    "#print(test)\n",
    "ft_model = 'ada:ft-personal-2023-03-13-22-18-36'\n",
    "\n",
    "for i in range(len(test)):\n",
    "    res = openai.Completion.create(model=ft_model, prompt=test['prompt'][i] + '\\n\\n###\\n\\n', max_tokens=1, temperature=0)\n",
    "    test.loc[i, 'prediction'] = res['choices'][0]['text']\n",
    "\n",
    "print(test)"
   ]
  }
 ],
 "metadata": {
  "kernelspec": {
   "display_name": "grad",
   "language": "python",
   "name": "python3"
  },
  "language_info": {
   "codemirror_mode": {
    "name": "ipython",
    "version": 3
   },
   "file_extension": ".py",
   "mimetype": "text/x-python",
   "name": "python",
   "nbconvert_exporter": "python",
   "pygments_lexer": "ipython3",
   "version": "3.11.0"
  },
  "orig_nbformat": 4
 },
 "nbformat": 4,
 "nbformat_minor": 2
}
