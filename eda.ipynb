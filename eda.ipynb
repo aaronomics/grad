{
 "cells": [
  {
   "cell_type": "code",
   "execution_count": 2,
   "metadata": {},
   "outputs": [],
   "source": [
    "import numpy as np\n",
    "import pandas as pd\n",
    "import matplotlib.pyplot as plt\n",
    "import matplotlib\n",
    "import seaborn as sns\n",
    "import nltk\n",
    "from textblob import TextBlob"
   ]
  },
  {
   "cell_type": "code",
   "execution_count": 6,
   "metadata": {},
   "outputs": [],
   "source": [
    "df = pd.read_excel(\"3class.xlsx\")"
   ]
  },
  {
   "cell_type": "code",
   "execution_count": 39,
   "metadata": {},
   "outputs": [],
   "source": [
    "df2 = pd.read_excel(\"human_ai.xlsx\")"
   ]
  },
  {
   "cell_type": "code",
   "execution_count": 4,
   "metadata": {},
   "outputs": [],
   "source": [
    "def calculate_metrics(df):\n",
    "    \"\"\"\n",
    "    Calculates the average sentence length, average grammatical complexity, and average sentiment\n",
    "    score for each row of text in the input DataFrame.\n",
    "    \n",
    "    Parameters:\n",
    "        df (Pandas DataFrame): A DataFrame with a single column of text\n",
    "    \n",
    "    Returns:\n",
    "        Pandas DataFrame: A new DataFrame with the columns 'average_sentence_length', 'average_grammatical_complexity',\n",
    "        and 'average_sentiment'\n",
    "    \"\"\"\n",
    "    # Define a function to calculate the POS tag count for a given sentence\n",
    "    def pos_tag_count(sentence):\n",
    "        pos_tags = nltk.pos_tag(nltk.word_tokenize(sentence))\n",
    "        tag_count = len(pos_tags)\n",
    "        return tag_count\n",
    "    \n",
    "    # Define a function to calculate the sentiment score for a given sentence\n",
    "    def sentiment_score(sentence):\n",
    "        blob = TextBlob(sentence)\n",
    "        score = blob.sentiment.polarity\n",
    "        return score\n",
    "    \n",
    "    # Tokenize the text into sentences\n",
    "    sentences = df['prompt'].apply(nltk.sent_tokenize)\n",
    "    \n",
    "    # Calculate the average sentence length for each row\n",
    "    df['average_sentence_length'] = sentences.apply(lambda x: sum(len(sentence.split()) for sentence in x)/len(x))\n",
    "    \n",
    "    # Calculate the average POS tag count for each row\n",
    "    df['average_grammatical_complexity'] = sentences.apply(lambda x: sum(pos_tag_count(sentence) for sentence in x)/len(x))\n",
    "    \n",
    "    # Calculate the average sentiment score for each row\n",
    "    df['average_sentiment'] = sentences.apply(lambda x: sum(sentiment_score(sentence) for sentence in x)/len(x))\n",
    "    \n",
    "    # Drop the 'sentences' column\n",
    "    #df = df.drop('sentences', axis=1)\n",
    "    \n",
    "    return df[['average_sentence_length', 'average_grammatical_complexity', 'average_sentiment']]\n"
   ]
  },
  {
   "cell_type": "code",
   "execution_count": 11,
   "metadata": {},
   "outputs": [
    {
     "data": {
      "text/html": [
       "<div>\n",
       "<style scoped>\n",
       "    .dataframe tbody tr th:only-of-type {\n",
       "        vertical-align: middle;\n",
       "    }\n",
       "\n",
       "    .dataframe tbody tr th {\n",
       "        vertical-align: top;\n",
       "    }\n",
       "\n",
       "    .dataframe thead th {\n",
       "        text-align: right;\n",
       "    }\n",
       "</style>\n",
       "<table border=\"1\" class=\"dataframe\">\n",
       "  <thead>\n",
       "    <tr style=\"text-align: right;\">\n",
       "      <th></th>\n",
       "      <th>prompt</th>\n",
       "      <th>completion</th>\n",
       "      <th>average_sentence_length</th>\n",
       "      <th>average_grammatical_complexity</th>\n",
       "      <th>average_sentiment</th>\n",
       "    </tr>\n",
       "  </thead>\n",
       "  <tbody>\n",
       "    <tr>\n",
       "      <th>0</th>\n",
       "      <td>\\n\\nIn the late 1800s, a woman by the name of ...</td>\n",
       "      <td>10thgrade</td>\n",
       "      <td>18.548387</td>\n",
       "      <td>20.709677</td>\n",
       "      <td>0.248499</td>\n",
       "    </tr>\n",
       "    <tr>\n",
       "      <th>1</th>\n",
       "      <td>\\n\\nThe Hunt for Enemy Technology - Early Jets...</td>\n",
       "      <td>10thgrade</td>\n",
       "      <td>23.312500</td>\n",
       "      <td>25.812500</td>\n",
       "      <td>0.202406</td>\n",
       "    </tr>\n",
       "    <tr>\n",
       "      <th>2</th>\n",
       "      <td>The Division of Labour\\n\\nThe division of labo...</td>\n",
       "      <td>6thgrade</td>\n",
       "      <td>15.634615</td>\n",
       "      <td>17.653846</td>\n",
       "      <td>0.139460</td>\n",
       "    </tr>\n",
       "    <tr>\n",
       "      <th>3</th>\n",
       "      <td>\\n\\n“Yes the body:” A Quarantined Review of Sp...</td>\n",
       "      <td>10thgrade</td>\n",
       "      <td>19.632653</td>\n",
       "      <td>22.714286</td>\n",
       "      <td>0.096295</td>\n",
       "    </tr>\n",
       "    <tr>\n",
       "      <th>4</th>\n",
       "      <td>\\n\\nOnce upon a time, in a world far different...</td>\n",
       "      <td>6thgrade</td>\n",
       "      <td>25.478261</td>\n",
       "      <td>27.695652</td>\n",
       "      <td>0.074657</td>\n",
       "    </tr>\n",
       "    <tr>\n",
       "      <th>...</th>\n",
       "      <td>...</td>\n",
       "      <td>...</td>\n",
       "      <td>...</td>\n",
       "      <td>...</td>\n",
       "      <td>...</td>\n",
       "    </tr>\n",
       "    <tr>\n",
       "      <th>295</th>\n",
       "      <td>\\n\\nThe History of Silicon Valley — A Brief Su...</td>\n",
       "      <td>6thgrade</td>\n",
       "      <td>19.793103</td>\n",
       "      <td>22.241379</td>\n",
       "      <td>0.248389</td>\n",
       "    </tr>\n",
       "    <tr>\n",
       "      <th>296</th>\n",
       "      <td>\\n\\nYes the Body: A Quarantined Review of Spaw...</td>\n",
       "      <td>6thgrade</td>\n",
       "      <td>18.302326</td>\n",
       "      <td>20.023256</td>\n",
       "      <td>0.167027</td>\n",
       "    </tr>\n",
       "    <tr>\n",
       "      <th>297</th>\n",
       "      <td>\\n\\nAs I stand atop the Eildon Hills, overlook...</td>\n",
       "      <td>college</td>\n",
       "      <td>19.421053</td>\n",
       "      <td>21.789474</td>\n",
       "      <td>0.125174</td>\n",
       "    </tr>\n",
       "    <tr>\n",
       "      <th>298</th>\n",
       "      <td>\\n\\nAs human beings, we have always been fasci...</td>\n",
       "      <td>10thgrade</td>\n",
       "      <td>21.387097</td>\n",
       "      <td>23.548387</td>\n",
       "      <td>0.043360</td>\n",
       "    </tr>\n",
       "    <tr>\n",
       "      <th>299</th>\n",
       "      <td>\\n\\nRushing the Growler: A Risky Business\\n\\nT...</td>\n",
       "      <td>college</td>\n",
       "      <td>16.021739</td>\n",
       "      <td>17.956522</td>\n",
       "      <td>0.043629</td>\n",
       "    </tr>\n",
       "  </tbody>\n",
       "</table>\n",
       "<p>300 rows × 5 columns</p>\n",
       "</div>"
      ],
      "text/plain": [
       "                                                prompt completion  \\\n",
       "0    \\n\\nIn the late 1800s, a woman by the name of ...  10thgrade   \n",
       "1    \\n\\nThe Hunt for Enemy Technology - Early Jets...  10thgrade   \n",
       "2    The Division of Labour\\n\\nThe division of labo...   6thgrade   \n",
       "3    \\n\\n“Yes the body:” A Quarantined Review of Sp...  10thgrade   \n",
       "4    \\n\\nOnce upon a time, in a world far different...   6thgrade   \n",
       "..                                                 ...        ...   \n",
       "295  \\n\\nThe History of Silicon Valley — A Brief Su...   6thgrade   \n",
       "296  \\n\\nYes the Body: A Quarantined Review of Spaw...   6thgrade   \n",
       "297  \\n\\nAs I stand atop the Eildon Hills, overlook...    college   \n",
       "298  \\n\\nAs human beings, we have always been fasci...  10thgrade   \n",
       "299  \\n\\nRushing the Growler: A Risky Business\\n\\nT...    college   \n",
       "\n",
       "     average_sentence_length  average_grammatical_complexity  \\\n",
       "0                  18.548387                       20.709677   \n",
       "1                  23.312500                       25.812500   \n",
       "2                  15.634615                       17.653846   \n",
       "3                  19.632653                       22.714286   \n",
       "4                  25.478261                       27.695652   \n",
       "..                       ...                             ...   \n",
       "295                19.793103                       22.241379   \n",
       "296                18.302326                       20.023256   \n",
       "297                19.421053                       21.789474   \n",
       "298                21.387097                       23.548387   \n",
       "299                16.021739                       17.956522   \n",
       "\n",
       "     average_sentiment  \n",
       "0             0.248499  \n",
       "1             0.202406  \n",
       "2             0.139460  \n",
       "3             0.096295  \n",
       "4             0.074657  \n",
       "..                 ...  \n",
       "295           0.248389  \n",
       "296           0.167027  \n",
       "297           0.125174  \n",
       "298           0.043360  \n",
       "299           0.043629  \n",
       "\n",
       "[300 rows x 5 columns]"
      ]
     },
     "execution_count": 11,
     "metadata": {},
     "output_type": "execute_result"
    }
   ],
   "source": [
    "metrics_df = calculate_metrics(df)\n",
    "df\n"
   ]
  },
  {
   "cell_type": "code",
   "execution_count": null,
   "metadata": {},
   "outputs": [],
   "source": []
  },
  {
   "cell_type": "code",
   "execution_count": null,
   "metadata": {},
   "outputs": [],
   "source": []
  },
  {
   "cell_type": "code",
   "execution_count": null,
   "metadata": {},
   "outputs": [],
   "source": []
  },
  {
   "cell_type": "code",
   "execution_count": 35,
   "metadata": {},
   "outputs": [],
   "source": [
    "import matplotlib.pyplot as plt\n",
    "import pandas as pd\n",
    "import seaborn as sns\n",
    "\n",
    "def generate_boxplots(dataframe, category_column):\n",
    "    numeric_cols = dataframe.select_dtypes(include=['float64', 'int64'])\n",
    "    category_values = ['6thgrade', '10thgrade', 'college'] # define desired order of labels\n",
    "    sns.set_style(\"whitegrid\")\n",
    "    for col in numeric_cols.columns:\n",
    "        fig, ax = plt.subplots(figsize=(5, 3))\n",
    "        title = col.replace(\"_\", \" \").title()\n",
    "        ax.set_title(title)\n",
    "        boxplot_data = []\n",
    "        for category_value in category_values:\n",
    "            label = category_value.replace(\"grade\", \"\") # remove \"grade\" from label\n",
    "            label = label.capitalize() # capitalize first letter of label\n",
    "            category_data = dataframe[dataframe[category_column] == category_value][col]\n",
    "            boxplot_data.append(category_data)\n",
    "        bp = ax.boxplot(boxplot_data, patch_artist=True, positions=range(len(category_values)))\n",
    "        for patch in bp['boxes']:\n",
    "            patch.set_facecolor('#99ccee')\n",
    "        ax.set_xticks(range(len(category_values)))\n",
    "        ax.set_xticklabels([label for label in category_values]) # set labels in desired order\n",
    "        plt.show()\n"
   ]
  },
  {
   "cell_type": "code",
   "execution_count": 36,
   "metadata": {},
   "outputs": [
    {
     "data": {
      "image/png": "[encoded data removed]",
      "text/plain": [
       "<Figure size 500x300 with 1 Axes>"
      ]
     },
     "metadata": {},
     "output_type": "display_data"
    },
    {
     "data": {
      "image/png": "[encoded data removed]",
      "text/plain": [
       "<Figure size 500x300 with 1 Axes>"
      ]
     },
     "metadata": {},
     "output_type": "display_data"
    },
    {
     "data": {
      "image/png": "[encoded data removed]",
      "text/plain": [
       "<Figure size 500x300 with 1 Axes>"
      ]
     },
     "metadata": {},
     "output_type": "display_data"
    }
   ],
   "source": [
    "generate_boxplots(df, 'completion')\n"
   ]
  },
  {
   "cell_type": "code",
   "execution_count": null,
   "metadata": {},
   "outputs": [],
   "source": []
  },
  {
   "cell_type": "code",
   "execution_count": null,
   "metadata": {},
   "outputs": [],
   "source": []
  },
  {
   "cell_type": "code",
   "execution_count": null,
   "metadata": {},
   "outputs": [],
   "source": []
  },
  {
   "cell_type": "code",
   "execution_count": 42,
   "metadata": {},
   "outputs": [],
   "source": [
    "def generate_boxplots2(dataframe, category_column):\n",
    "    numeric_cols = dataframe.select_dtypes(include=['float64', 'int64'])\n",
    "    category_values = ['human', 'ai'] # define desired order of labels\n",
    "    sns.set_style(\"whitegrid\")\n",
    "    for col in numeric_cols.columns:\n",
    "        fig, ax = plt.subplots(figsize=(5, 3))\n",
    "        title = col.replace(\"_\", \" \").title()\n",
    "        ax.set_title(title)\n",
    "        boxplot_data = []\n",
    "        for category_value in category_values:\n",
    "            label = category_value.replace(\"grade\", \"\") # remove \"grade\" from label\n",
    "            label = label.capitalize() # capitalize first letter of label\n",
    "            category_data = dataframe[dataframe[category_column] == category_value][col]\n",
    "            boxplot_data.append(category_data)\n",
    "        bp = ax.boxplot(boxplot_data, patch_artist=True, positions=range(len(category_values)))\n",
    "        for patch in bp['boxes']:\n",
    "            patch.set_facecolor('#99ccee')\n",
    "        ax.set_xticks(range(len(category_values)))\n",
    "        ax.set_xticklabels([label for label in category_values]) # set labels in desired order\n",
    "        plt.show()"
   ]
  },
  {
   "cell_type": "code",
   "execution_count": null,
   "metadata": {},
   "outputs": [],
   "source": []
  },
  {
   "cell_type": "code",
   "execution_count": 40,
   "metadata": {},
   "outputs": [
    {
     "data": {
      "text/html": [
       "<div>\n",
       "<style scoped>\n",
       "    .dataframe tbody tr th:only-of-type {\n",
       "        vertical-align: middle;\n",
       "    }\n",
       "\n",
       "    .dataframe tbody tr th {\n",
       "        vertical-align: top;\n",
       "    }\n",
       "\n",
       "    .dataframe thead th {\n",
       "        text-align: right;\n",
       "    }\n",
       "</style>\n",
       "<table border=\"1\" class=\"dataframe\">\n",
       "  <thead>\n",
       "    <tr style=\"text-align: right;\">\n",
       "      <th></th>\n",
       "      <th>prompt</th>\n",
       "      <th>completion</th>\n",
       "      <th>average_sentence_length</th>\n",
       "      <th>average_grammatical_complexity</th>\n",
       "      <th>average_sentiment</th>\n",
       "    </tr>\n",
       "  </thead>\n",
       "  <tbody>\n",
       "    <tr>\n",
       "      <th>0</th>\n",
       "      <td>\\n\\nThe NBA is home to some of the most amazin...</td>\n",
       "      <td>ai</td>\n",
       "      <td>17.975610</td>\n",
       "      <td>20.878049</td>\n",
       "      <td>0.180748</td>\n",
       "    </tr>\n",
       "    <tr>\n",
       "      <th>1</th>\n",
       "      <td>Evelyn McHale’s Most Beautiful Suicide\\n\\nA ph...</td>\n",
       "      <td>human</td>\n",
       "      <td>16.428571</td>\n",
       "      <td>18.968254</td>\n",
       "      <td>0.107971</td>\n",
       "    </tr>\n",
       "    <tr>\n",
       "      <th>2</th>\n",
       "      <td>\\n\\nIn a world where technology has become an ...</td>\n",
       "      <td>ai</td>\n",
       "      <td>19.000000</td>\n",
       "      <td>21.638889</td>\n",
       "      <td>0.184185</td>\n",
       "    </tr>\n",
       "    <tr>\n",
       "      <th>3</th>\n",
       "      <td>An Analysis of the Role of Media Coverage of t...</td>\n",
       "      <td>human</td>\n",
       "      <td>39.333333</td>\n",
       "      <td>43.166667</td>\n",
       "      <td>-0.009496</td>\n",
       "    </tr>\n",
       "    <tr>\n",
       "      <th>4</th>\n",
       "      <td>\\n\\nThe Familial Blackmail Of A Popular Senato...</td>\n",
       "      <td>ai</td>\n",
       "      <td>16.292683</td>\n",
       "      <td>18.097561</td>\n",
       "      <td>0.072050</td>\n",
       "    </tr>\n",
       "    <tr>\n",
       "      <th>...</th>\n",
       "      <td>...</td>\n",
       "      <td>...</td>\n",
       "      <td>...</td>\n",
       "      <td>...</td>\n",
       "      <td>...</td>\n",
       "    </tr>\n",
       "    <tr>\n",
       "      <th>445</th>\n",
       "      <td>\\n\\nIn today's ever-evolving world, communicat...</td>\n",
       "      <td>ai</td>\n",
       "      <td>20.485714</td>\n",
       "      <td>23.685714</td>\n",
       "      <td>0.084739</td>\n",
       "    </tr>\n",
       "    <tr>\n",
       "      <th>446</th>\n",
       "      <td>\\n\\nThe study of Anglo-Saxon culture and histo...</td>\n",
       "      <td>ai</td>\n",
       "      <td>23.457143</td>\n",
       "      <td>25.971429</td>\n",
       "      <td>0.093564</td>\n",
       "    </tr>\n",
       "    <tr>\n",
       "      <th>447</th>\n",
       "      <td>\\n\\nA Vacation to Mars: The Biggest Scam in Mo...</td>\n",
       "      <td>ai</td>\n",
       "      <td>21.029412</td>\n",
       "      <td>23.235294</td>\n",
       "      <td>0.024079</td>\n",
       "    </tr>\n",
       "    <tr>\n",
       "      <th>448</th>\n",
       "      <td>\\n\\nThe Winter Goddess\\n\\nWinter is one of the...</td>\n",
       "      <td>ai</td>\n",
       "      <td>19.828571</td>\n",
       "      <td>22.028571</td>\n",
       "      <td>0.081576</td>\n",
       "    </tr>\n",
       "    <tr>\n",
       "      <th>449</th>\n",
       "      <td>\\n\\nOn the night of September 7, 2021, the Uni...</td>\n",
       "      <td>ai</td>\n",
       "      <td>23.647059</td>\n",
       "      <td>26.382353</td>\n",
       "      <td>0.236768</td>\n",
       "    </tr>\n",
       "  </tbody>\n",
       "</table>\n",
       "<p>450 rows × 5 columns</p>\n",
       "</div>"
      ],
      "text/plain": [
       "                                                prompt completion  \\\n",
       "0    \\n\\nThe NBA is home to some of the most amazin...         ai   \n",
       "1    Evelyn McHale’s Most Beautiful Suicide\\n\\nA ph...      human   \n",
       "2    \\n\\nIn a world where technology has become an ...         ai   \n",
       "3    An Analysis of the Role of Media Coverage of t...      human   \n",
       "4    \\n\\nThe Familial Blackmail Of A Popular Senato...         ai   \n",
       "..                                                 ...        ...   \n",
       "445  \\n\\nIn today's ever-evolving world, communicat...         ai   \n",
       "446  \\n\\nThe study of Anglo-Saxon culture and histo...         ai   \n",
       "447  \\n\\nA Vacation to Mars: The Biggest Scam in Mo...         ai   \n",
       "448  \\n\\nThe Winter Goddess\\n\\nWinter is one of the...         ai   \n",
       "449  \\n\\nOn the night of September 7, 2021, the Uni...         ai   \n",
       "\n",
       "     average_sentence_length  average_grammatical_complexity  \\\n",
       "0                  17.975610                       20.878049   \n",
       "1                  16.428571                       18.968254   \n",
       "2                  19.000000                       21.638889   \n",
       "3                  39.333333                       43.166667   \n",
       "4                  16.292683                       18.097561   \n",
       "..                       ...                             ...   \n",
       "445                20.485714                       23.685714   \n",
       "446                23.457143                       25.971429   \n",
       "447                21.029412                       23.235294   \n",
       "448                19.828571                       22.028571   \n",
       "449                23.647059                       26.382353   \n",
       "\n",
       "     average_sentiment  \n",
       "0             0.180748  \n",
       "1             0.107971  \n",
       "2             0.184185  \n",
       "3            -0.009496  \n",
       "4             0.072050  \n",
       "..                 ...  \n",
       "445           0.084739  \n",
       "446           0.093564  \n",
       "447           0.024079  \n",
       "448           0.081576  \n",
       "449           0.236768  \n",
       "\n",
       "[450 rows x 5 columns]"
      ]
     },
     "execution_count": 40,
     "metadata": {},
     "output_type": "execute_result"
    }
   ],
   "source": [
    "metrics_df2 = calculate_metrics(df2)\n",
    "df2"
   ]
  },
  {
   "cell_type": "code",
   "execution_count": 43,
   "metadata": {},
   "outputs": [
    {
     "data": {
      "image/png": "[encoded data removed]",
      "text/plain": [
       "<Figure size 500x300 with 1 Axes>"
      ]
     },
     "metadata": {},
     "output_type": "display_data"
    },
    {
     "data": {
      "image/png": "[encoded data removed]",
      "text/plain": [
       "<Figure size 500x300 with 1 Axes>"
      ]
     },
     "metadata": {},
     "output_type": "display_data"
    },
    {
     "data": {
      "image/png": "[encoded data removed]",
      "text/plain": [
       "<Figure size 500x300 with 1 Axes>"
      ]
     },
     "metadata": {},
     "output_type": "display_data"
    }
   ],
   "source": [
    "generate_boxplots2(df2, 'completion')"
   ]
  },
  {
   "cell_type": "code",
   "execution_count": 1,
   "metadata": {},
   "outputs": [],
   "source": [
    "import scipy.stats as stats\n",
    "\n",
    "def perform_ranksum(dataframe, category_column):\n",
    "    # Create a list to hold the data for each category\n",
    "    category_data = []\n",
    "    for category_value in dataframe[category_column].unique():\n",
    "        category_data.append(dataframe[dataframe[category_column] == category_value])\n",
    "\n",
    "    # Extract the data from numerical columns in each category data frame\n",
    "    numerical_columns = dataframe.select_dtypes(include=['float64', 'int64']).columns\n",
    "    data = [[df[col] for col in numerical_columns] for df in category_data]\n",
    "\n",
    "    # Perform the rank sum test for each numerical column and category\n",
    "    results = {}\n",
    "    for i, col in enumerate(numerical_columns):\n",
    "        groups = [cat_data[i] for cat_data in data]\n",
    "        if len(groups) == 2:\n",
    "            result = stats.ttest_rel(groups[0], groups[1])\n",
    "        else:\n",
    "            raise ValueError('ttest_rel() requires exactly 2 groups.')\n",
    "\n",
    "\n",
    "    return results\n"
   ]
  },
  {
   "cell_type": "code",
   "execution_count": 89,
   "metadata": {},
   "outputs": [
    {
     "name": "stdout",
     "output_type": "stream",
     "text": [
      "{'average_sentence_length': KruskalResult(statistic=65.97853700678145, pvalue=4.709152198557007e-15), 'average_grammatical_complexity': KruskalResult(statistic=68.69810600873662, pvalue=1.2089151540391812e-15), 'average_sentiment': KruskalResult(statistic=5.73027508305654, pvalue=0.056975294124061916)}\n"
     ]
    }
   ],
   "source": [
    "ranksum = perform_ranksum(df, 'completion')\n",
    "print(ranksum)"
   ]
  },
  {
   "cell_type": "code",
   "execution_count": 90,
   "metadata": {},
   "outputs": [
    {
     "name": "stdout",
     "output_type": "stream",
     "text": [
      "{'average_sentence_length': RanksumsResult(statistic=-2.894698903905549, pvalue=0.003795223789737559), 'average_grammatical_complexity': RanksumsResult(statistic=-4.031201754210344, pvalue=5.549238204509057e-05), 'average_sentiment': RanksumsResult(statistic=7.659475569611681, pvalue=1.866938578817793e-14)}\n"
     ]
    }
   ],
   "source": [
    "ranksum2 = perform_ranksum(df2, 'completion')\n",
    "print(ranksum2)"
   ]
  }
 ],
 "metadata": {
  "kernelspec": {
   "display_name": "grad",
   "language": "python",
   "name": "python3"
  },
  "language_info": {
   "codemirror_mode": {
    "name": "ipython",
    "version": 3
   },
   "file_extension": ".py",
   "mimetype": "text/x-python",
   "name": "python",
   "nbconvert_exporter": "python",
   "pygments_lexer": "ipython3",
   "version": "3.9.15"
  },
  "orig_nbformat": 4
 },
 "nbformat": 4,
 "nbformat_minor": 2
}
